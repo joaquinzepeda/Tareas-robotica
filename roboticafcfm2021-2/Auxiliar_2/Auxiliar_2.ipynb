{
  "nbformat": 4,
  "nbformat_minor": 0,
  "metadata": {
    "colab": {
      "name": "Auxiliar_2",
      "provenance": [],
      "toc_visible": true,
      "authorship_tag": "ABX9TyM0a29lI7P4gW7e4gsL+ZK6",
      "include_colab_link": true
    },
    "kernelspec": {
      "name": "python3",
      "display_name": "Python 3"
    },
    "language_info": {
      "name": "python"
    }
  },
  "cells": [
    {
      "cell_type": "markdown",
      "metadata": {
        "id": "view-in-github",
        "colab_type": "text"
      },
      "source": [
        "<a href=\"https://colab.research.google.com/github/RaimundoLorca/roboticafcfm2021-2/blob/main/Auxiliar_2.ipynb\" target=\"_parent\"><img src=\"https://colab.research.google.com/assets/colab-badge.svg\" alt=\"Open In Colab\"/></a>"
      ]
    },
    {
      "cell_type": "markdown",
      "metadata": {
        "id": "ACusUeGewWes"
      },
      "source": [
        "#Auxiliar 2: Shape Detection\n",
        "\n",
        "La Transformada de Hough es una técnica que permite detectar geometrías en una imagen, mientras esta pueda ser parametrizada matemáticamente. Mediante su matriz acumuladora de votos, logra detectar recta y círculos incluso si estos presentan ruido o irregularidades.\n",
        "\n",
        "En este taller utilizaremos las implementaciones de la Transformada de Hough en OpenCV para trackear y orientar un cuaderno en una imagen.\n",
        "\n",
        "<img src=\"https://raw.githubusercontent.com/RaimundoLorca/roboticafcfm2021-2/main/bin/Calle_ready.jpg\" height=\"300\">"
      ]
    },
    {
      "cell_type": "markdown",
      "metadata": {
        "id": "mZ-YjrQKwiyO"
      },
      "source": [
        "## OpenCV\n",
        "\n",
        "La Open Surce Computer Vision es una librería especializada en herramientas de visión computacional y en todo lo que respecta a visión artificial en general. De este modo provee de funcionalidades de todo tipo de complejidad, desde operaciones básicas de procesamiento de imágenes, hasta algoritmos de reconocimiento de objetos.\n",
        "\n",
        "Por supuesto, esta librería cuenta con su documentación correspondiente. En esta puede encontrar descripciones más detalladas de sus funcionalidades, así como también ejemplos, tutoriales y otros.\n",
        "\n",
        "https://docs.opencv.org/master/\n",
        "\n",
        "<img src=\"https://raw.githubusercontent.com/cherrerab/roboticafcfm/master/auxiliar_01/bin/opencv_logo.png\" height=\"200\">"
      ]
    },
    {
      "cell_type": "markdown",
      "metadata": {
        "id": "QvR7Hh5gwp8M"
      },
      "source": [
        "##Cargar repositorio Github\n",
        "\n",
        "La imagen con que trabajaremos en este taller se encuentra en el repositorio del curso, de este modo lo primero que haremos será clonar este github."
      ]
    },
    {
      "cell_type": "code",
      "metadata": {
        "id": "sHD3Ly0RwtRs"
      },
      "source": [
        "!git clone https://github.com/RaimundoLorca/roboticafcfm2021-2.git\n",
        "%cd /content/roboticafcfm2021-2"
      ],
      "execution_count": null,
      "outputs": []
    },
    {
      "cell_type": "markdown",
      "metadata": {
        "id": "WDDbK81uw8mb"
      },
      "source": [
        "##Cargar imagen 1\n",
        "\n",
        "Para cargar las imagenes con OpenCV, se utiliza la función `cv2.imread`, la cual necesita la ubicación del archivo con el que estamos trabajando. En este caso, el path es `\"//content//roboticafcfm2021-2//Auxiliar_2//Calle.png\"`.\n"
      ]
    },
    {
      "cell_type": "code",
      "metadata": {
        "id": "KQOOJeimy4ks"
      },
      "source": [
        "#Cargar librerias a usar\n",
        "import cv2\n",
        "import numpy as np\n",
        "import matplotlib.pyplot as plot\n",
        "\n",
        "#Cargar imagen\n",
        "img = \n",
        "\n",
        "#Cambiar espacio de colores (BGR A RGB)\n",
        "img_rgb = \n",
        "\n",
        "#Plotear imagen con Matplotlib\n",
        "plot.figure()\n",
        "plot.imshow(img_rgb)\n",
        "plot.axis(\"off\")"
      ],
      "execution_count": null,
      "outputs": []
    },
    {
      "cell_type": "markdown",
      "metadata": {
        "id": "n5pwoZRhIwOh"
      },
      "source": [
        "Una vez hemos cargado la imagen, podemos empezar el proceso de identificar las rectas. No obstante, dado que la Transformada de Hough de rectas requiere, por supuesto, que existan rectas en la imagen, tenemos que extraer los bordes de esta imagen para poder procesarla. Para esto podemos utilizar el método `cv2.Canny`.\n",
        "\n",
        "[Documentación Canny Edge Detection OpenCV](https://docs.opencv.org/3.4/da/d5c/tutorial_canny_detector.html)"
      ]
    },
    {
      "cell_type": "code",
      "metadata": {
        "id": "TOuFlfu-Gai4"
      },
      "source": [
        "#%% Detectar bordes mediante Canny\n",
        "\n",
        "#Cambiar espacio de colores (RGB A GRAY)\n",
        "img_gray = \n",
        "\n",
        "#Canny (cv2.Canny)\n",
        "edges = \n",
        "\n",
        "#Plotear imagen con Matplotlib\n",
        "plot.figure()\n",
        "plot.imshow(edges, cmap='gray')\n",
        "plot.axis('off')"
      ],
      "execution_count": null,
      "outputs": []
    },
    {
      "cell_type": "markdown",
      "metadata": {
        "id": "O0GLDE1GKLlU"
      },
      "source": [
        "## Hough Line Transform\n",
        "\n",
        "Todo el algoritmo de la Transformada de Hough ha sido implementado en OpenCV mediante el método `cv2.HoughLines`. Este método retorna un `np.array` con los parámetros `(rho, theta)` de cada una de las rectas detectadas. Por supuesto, para operar requiere una imagen binaria como nuestra imagen `edges`, la resolución de búsqueda para los parámetros `(rho, theta)`, y el umbral de votos para segmentar las rectas detectadas.\n",
        "\n",
        "[Documentación Hough Lines OpenCV](https://docs.opencv.org/3.4/d3/de6/tutorial_js_houghlines.html)"
      ]
    },
    {
      "cell_type": "code",
      "metadata": {
        "id": "CLUs_umrKNjL"
      },
      "source": [
        "# Utilizar HoughLines sobre la imagen\n",
        "rho=\n",
        "theta=\n",
        "threshold=\n",
        "\n",
        "lines = \n",
        "\n",
        "# Print resultado de rectas\n",
        "print('Cantidad de rectas detectadas:\\n', len(lines))\n",
        "print('rectas detectadas:\\n', lines)"
      ],
      "execution_count": null,
      "outputs": []
    },
    {
      "cell_type": "markdown",
      "metadata": {
        "id": "8h0nltYAL1FN"
      },
      "source": [
        "Notemos que el resultado consiste en una lista de listas. Por lo que al procesar esta información debemos cuidar el como la extraemos.\n",
        "\n",
        "Ahora bien, una vez tenemos los parámetros `(rho, theta)` para cada recta, podemos transformar esta parametrización tal de poder plotear las rectas identificadas en la imagen mediante la función `cv2.line`.\n"
      ]
    },
    {
      "cell_type": "code",
      "metadata": {
        "id": "Tis3l3BqL3HW"
      },
      "source": [
        "# cargar imagen\n",
        "img_lines = np.copy(img_rgb)\n",
        "img_lines = cv2.cvtColor(img_lines, cv2.COLOR_BGR2RGB)\n",
        "\n",
        "# para cada recta detectada\n",
        "for line in lines:\n",
        "  # obtener parámetros (rho, theta)\n",
        "  rho, theta = line[0]\n",
        "\n",
        "  a = np.cos(theta)\n",
        "  b = np.sin(theta)\n",
        "  x0 = a*rho\n",
        "  y0 = b*rho\n",
        "\n",
        "  # obtener recta (x1,y1), (x2,y2)\n",
        "  x1 = int(x0 + 1000*(-b))\n",
        "  y1 = int(y0 + 1000*(a))\n",
        "  x2 = int(x0 - 1000*(-b))\n",
        "  y2 = int(y0 - 1000*(a))\n",
        "\n",
        "  # plotear recta en la imagen con cv2.line\n",
        "  color = (255, 0, 0)\n",
        "  thickness = 2\n",
        "  img_lines = cv2.line(img_lines, (x1, y1), (x2, y2), color, thickness)\n",
        "\n",
        "#Plotear imagen con Matplotlib\n",
        "plot.figure()\n",
        "plot.imshow(img_lines)\n",
        "plot.axis('off')"
      ],
      "execution_count": null,
      "outputs": []
    },
    {
      "cell_type": "markdown",
      "metadata": {
        "id": "oD13Bdy-VdWU"
      },
      "source": [
        "##Cargar imagen 2\n",
        "\n",
        "Para cargar las imagenes con OpenCV, se utiliza la función `cv2.imread`, la cual necesita la ubicación del archivo con el que estamos trabajando. En este caso, el path es `\"//content//roboticafcfm2021-2//Auxiliar_2//Tennis_balls2.jpg\"`."
      ]
    },
    {
      "cell_type": "code",
      "metadata": {
        "id": "CsRMnl5VVljZ"
      },
      "source": [
        "#Cargar imagen\n",
        "img = \n",
        "\n",
        "#Cambiar espacio de colores (BGR A RGB)\n",
        "img_rgb = \n",
        "\n",
        "#Plotear imagen con Matplotlib\n",
        "plot.figure()\n",
        "plot.imshow(img_rgb)\n",
        "plot.axis(\"off\")"
      ],
      "execution_count": null,
      "outputs": []
    },
    {
      "cell_type": "markdown",
      "metadata": {
        "id": "pmw4zLk8hAxw"
      },
      "source": [
        "Como las pelotas son nuestro objeto de interés, llevaremos a cabo un proceso de segmentación por color para aislar solo las pelotas. Al igual que en la auxiliar pasada, se utilizará el espacio de color HSV, identificando el matiz del color de las pelotas."
      ]
    },
    {
      "cell_type": "code",
      "metadata": {
        "id": "yYyZ_rGsVxZg"
      },
      "source": [
        "#Cambiar espacio de colores (BGR A RGB)\n",
        "img_hsv = \n",
        "\n",
        "#Extraer canal Hue\n",
        "img_hue = \n",
        "\n",
        "#Se convierte la matriz de la imagen a un vector\n",
        "img_flat = img_hue.flatten()\n",
        "\n",
        "#Plotear histograma con Matplotlib\n",
        "plot.figure()\n",
        "plot.hist(img_flat, 100)\n",
        "plot.title('Histograma canal HUE en escala de grises')\n",
        "plot.xlabel('Intensidad color')\n",
        "plot.ylabel('Frecuencia')\n"
      ],
      "execution_count": null,
      "outputs": []
    },
    {
      "cell_type": "code",
      "metadata": {
        "id": "KrsiczWfXQNV"
      },
      "source": [
        "#Definir límite inferior\n",
        "lower_hsv = \n",
        "\n",
        "#Definir límite superior\n",
        "upper_hsv = \n",
        "\n",
        "#Segmentar mediante cv2.inRange\n",
        "mask = \n",
        "\n",
        "#Plotear imagen con Matplotlib\n",
        "plot.figure()\n",
        "plot.imshow(mask, cmap='gray')\n",
        "plot.axis(\"off\")"
      ],
      "execution_count": null,
      "outputs": []
    },
    {
      "cell_type": "markdown",
      "metadata": {
        "id": "EEocSOg3hlM4"
      },
      "source": [
        "Dado que la Transformada de Hough de circulos requiere, por supuesto, que existan rectas en la imagen, tenemos que extraer los bordes de esta imagen para poder procesarla. Para esto podemos utilizar el método `cv2.Canny`.\n",
        "\n",
        "[Documentación Canny Edge Detection OpenCV](https://docs.opencv.org/3.4/da/d5c/tutorial_canny_detector.html)"
      ]
    },
    {
      "cell_type": "code",
      "metadata": {
        "id": "qRruUtiIaqt5"
      },
      "source": [
        "#Canny (cv2.Canny)\n",
        "edges = \n",
        "\n",
        "#Plotear imagen con Matplotlib\n",
        "plot.figure()\n",
        "plot.imshow(edges, cmap='gray')\n",
        "plot.axis('off')"
      ],
      "execution_count": null,
      "outputs": []
    },
    {
      "cell_type": "markdown",
      "metadata": {
        "id": "JhQacLpDgdY9"
      },
      "source": [
        "##Hough Circle Transform\n",
        "\n",
        "Todo el algoritmo de la Transformada de Hough ha sido implementado en OpenCV mediante el método `cv2.HoughCircles`. Este método retorna un `np.array` con los parámetros `(x,y,radius)` de cada uno de los circulos detectados. Por supuesto, para operar requiere una imagen binaria como nuestra imagen `edges`, el umbral de votos para segmentar los circulos detectados, la distancia minima entre los circulos detectados, etc.\n",
        "\n",
        "[Documentación Hough Circles OpenCV](https://docs.opencv.org/4.5.1/d3/de5/tutorial_js_houghcircles.html)"
      ]
    },
    {
      "cell_type": "code",
      "metadata": {
        "id": "43R6O2FVbcR4"
      },
      "source": [
        "#Transformada hough circulos (cv2.HoughCircles)\n",
        "circles = \n",
        "\n",
        "img_rgb2 = np.copy(img_rgb)\n",
        "\n",
        "#Para cada circulo detectado\n",
        "for circle in circles[0]:\n",
        "  centro = (int(circle[0]), int(circle[1]))\n",
        "  radio = int(circle[2])\n",
        "  color = (255, 0, 0)\n",
        "  thickness = 2\n",
        "  img = cv2.circle(img_rgb2, centro, radio, color, thickness)\n",
        "\n",
        "#Plotear imagen con Matplotlib\n",
        "plot.figure()\n",
        "plot.imshow(img)\n",
        "plot.axis('off')\n"
      ],
      "execution_count": null,
      "outputs": []
    }
  ]
}
