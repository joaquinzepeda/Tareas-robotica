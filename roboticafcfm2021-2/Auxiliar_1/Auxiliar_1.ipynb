{
  "nbformat": 4,
  "nbformat_minor": 0,
  "metadata": {
    "colab": {
      "name": "Auxiliar_1",
      "provenance": [],
      "toc_visible": true,
      "authorship_tag": "ABX9TyOIir53YnfhA4HyI2iPGrPh",
      "include_colab_link": true
    },
    "kernelspec": {
      "name": "python3",
      "display_name": "Python 3"
    },
    "language_info": {
      "name": "python"
    }
  },
  "cells": [
    {
      "cell_type": "markdown",
      "metadata": {
        "id": "view-in-github",
        "colab_type": "text"
      },
      "source": [
        "<a href=\"https://colab.research.google.com/github/RaimundoLorca/roboticafcfm2021-2/blob/main/Auxiliar_1/Auxiliar_1.ipynb\" target=\"_parent\"><img src=\"https://colab.research.google.com/assets/colab-badge.svg\" alt=\"Open In Colab\"/></a>"
      ]
    },
    {
      "cell_type": "markdown",
      "metadata": {
        "id": "3E6p7rttok0q"
      },
      "source": [
        "#Auxiliar 1: Color Segmentation\n",
        "\n",
        "La segmentación, si bien bajo muchos aspectos consiste en una operación bastante simple, es un proceso bastante útil a la hora de desarrollar algoritmos de detección de objetos o tracking. En términos simples, segmentar una imagen consiste en seccionar o aislar zonas de una imagen en función de algún atributo, como por ejemplo, intensidad o color.\n",
        "\n",
        "En este tutorial aprenderá los primeros pasos en cuanto a procesamiento de imágenes, desde cargar las imágenes como arreglos numéricos, hasta manipular sus valores mediante filtros y segmentadores.\n",
        "\n",
        "<img src=\"https://raw.githubusercontent.com/RaimundoLorca/roboticafcfm2021-2/main/bin/Karasuno_ready.png\" height=\"300\">"
      ]
    },
    {
      "cell_type": "markdown",
      "metadata": {
        "id": "jhGvuTmyoRV0"
      },
      "source": [
        "## OpenCV\n",
        "\n",
        "La Open Source Computer Vision es una librería especializada en herramientas de visión computacional y en todo lo que respecta a visión artificial en general. De este modo provee de funcionalidades de todo tipo de complejidad, desde operaciones básicas de procesamiento de imágenes, hasta algoritmos de reconocimiento de objetos.\n",
        "\n",
        "Por supuesto, esta librería cuenta con su documentación correspondiente. En esta puede encontrar descripciones más detalladas de sus funcionalidades, así como también ejemplos, tutoriales y otros.\n",
        "\n",
        "https://docs.opencv.org/master/\n",
        "\n",
        "<img src=\"https://raw.githubusercontent.com/cherrerab/roboticafcfm/master/auxiliar_01/bin/opencv_logo.png\" height=\"200\">"
      ]
    },
    {
      "cell_type": "markdown",
      "metadata": {
        "id": "fP8hHcK1oxtE"
      },
      "source": [
        "##Cargar repositorio Github\n",
        "\n",
        "La imagen con que trabajaremos en este taller se encuentra en el repositorio del curso, de este modo lo primero que haremos será clonar este github."
      ]
    },
    {
      "cell_type": "code",
      "metadata": {
        "id": "RabrO83BDUwx"
      },
      "source": [
        "!git clone https://github.com/RaimundoLorca/roboticafcfm2021-2.git\n",
        "%cd /content/roboticafcfm2021-2"
      ],
      "execution_count": null,
      "outputs": []
    },
    {
      "cell_type": "markdown",
      "metadata": {
        "id": "DSsQKVU4wlTy"
      },
      "source": [
        "##Cargar imagen\n",
        "\n",
        "Para cargar las imagenes con OpenCV, se utiliza la función `cv2.imread`, la cual necesita la ubicación del archivo con el que estamos trabajando. En este caso, el path es `\"//content//roboticafcfm2021-2//Auxiliar_1//Karasuno.jpg\"`."
      ]
    },
    {
      "cell_type": "code",
      "metadata": {
        "id": "Op31WKZRzDxQ"
      },
      "source": [
        "#Cargar librerias a usar\n",
        "import cv2\n",
        "import numpy as np\n",
        "import matplotlib.pyplot as plot\n",
        "\n",
        "#Cargar imagen\n",
        "img = cv2.imread(  )\n",
        "\n",
        "#Printea el tipo y las dimensiones de la imagen\n",
        "print('type(img):', type(img))\n",
        "print('\\nimg.shape:', img.shape)\n",
        "print('\\nimg.dtype:', img.dtype)"
      ],
      "execution_count": null,
      "outputs": []
    },
    {
      "cell_type": "markdown",
      "metadata": {
        "id": "eDXVVjNz1MUk"
      },
      "source": [
        "Interpretando la información de forma mas clara:\n",
        "\n",
        "*   Nuestra imagen es del tipo `np.array` y está compuesta por 3 dimensiones, en donde cada una corresponde a un canal (Red, Green y Blue).\n",
        "*   Cada uno de los valores que componen el arreglo de matrices es del tipo `uint8`, en otras palabras, valores enteros positivos de 8-bits.\n",
        "*   El tamaño `(735, 1250, 3)` indica que la imagen tiene un `height` de 735 px, un `width` de 1250 px, y 3 `channels` BGR. En resumen, el tamaño equivale a (cantidad de filas, cantidad de columnas, cantidad de canales).\n",
        "\n",
        "Es importante notar que los canales que entrega la función cv2.imread están en `BGR`, no en `RGB`. Para visualizar esto, utilizaremos la librería `matplotlib`."
      ]
    },
    {
      "cell_type": "code",
      "metadata": {
        "id": "ukcx6iLE38NR"
      },
      "source": [
        "#Plotear imagen con Matplotlib\n",
        "plot.figure()\n",
        "plot.imshow(img)\n",
        "plot.axis(\"off\")"
      ],
      "execution_count": null,
      "outputs": []
    },
    {
      "cell_type": "markdown",
      "metadata": {
        "id": "yO632L4N92dV"
      },
      "source": [
        "Para arreglar esto, debemos reordenar los canales, esto se logra utlizando la función `cv2.cvtColor`, la cual permite transformar el `colorspace` de una imagen directamente a otro. Dado que en este caso queremos pasar de BGR a RGB, utilizaremos el código `cv2.COLOR_BGR2RGB`."
      ]
    },
    {
      "cell_type": "code",
      "metadata": {
        "id": "JIAOjOKo_tja"
      },
      "source": [
        "#Cambiar espacio de colores (BGR A RGB)\n",
        "img_rgb = \n",
        "\n",
        "#Plotear imagen con Matplotlib\n",
        "plot.figure()\n",
        "plot.imshow(img_rgb)\n",
        "plot.axis(\"off\")"
      ],
      "execution_count": null,
      "outputs": []
    },
    {
      "cell_type": "markdown",
      "metadata": {
        "id": "SP00O_PzAG3J"
      },
      "source": [
        "##Segmentando con HSV\n",
        "\n",
        "La segmentación por color consiste en binarizar una imagen, obteniendo una imagen en blanco y negro, en donde el área en blanco corresponde al objeto de interés. Esto se logra considerando un rango específico en base a la rueda de color. De este modo, aquellos pixeles cuyos valores se encuentren dentro del rango pasarán a `255` (blanco), mientras que aquellos que no, a `0` (negro).\n",
        "\n",
        "Pero, cómo determinamos este rango?\n",
        "\n",
        "La estrategia más directa es hacerlo al ojímetro y ajustar mediante ensayo y error. Pero el método más confiable, o sistemático, es utilizar histrogramas. Siguiendo este método, primero transformaremos la imagen a HSV utilizando `cv2.cvtColor`, y luego generaremos su histograma de valores `HUE` mediante `plot.hist`."
      ]
    },
    {
      "cell_type": "code",
      "metadata": {
        "id": "intacVb8EH3l"
      },
      "source": [
        "#Cambiar espacio de colores (RGB A HSV)\n",
        "img_hsv = \n",
        "\n",
        "#Plotear imagen con Matplotlib\n",
        "plot.figure()\n",
        "plot.imshow(img_hsv)\n",
        "plot.axis(\"off\")"
      ],
      "execution_count": null,
      "outputs": []
    },
    {
      "cell_type": "code",
      "metadata": {
        "id": "SQxrh9tkEnWa"
      },
      "source": [
        "#Obtener el canal Hue\n",
        "img_hue =  \n",
        "\n",
        "#Plotear imagen con Matplotlib\n",
        "plot.figure()\n",
        "plot.imshow(img_hue, cmap='gray')\n",
        "plot.axis(\"off\")\n",
        "\n",
        "#Se convierte la matriz de la imagen a un vector\n",
        "img_flat = img_hue.flatten()\n",
        "\n",
        "#Plotear histograma con Matplotlib\n",
        "plot.figure()\n",
        "plot.hist(img_flat, 100)\n",
        "plot.title('Histograma canal HUE en escala de grises')\n",
        "plot.xlabel('Intensidad')\n",
        "plot.ylabel('Frecuencia')"
      ],
      "execution_count": null,
      "outputs": []
    },
    {
      "cell_type": "markdown",
      "metadata": {
        "id": "LZ8_VMiHZh2j"
      },
      "source": [
        "Podemos notar del histograma que existen dos zonas que concentran los valores `HUE` dentro de la imagen. La primera es la que se encuentra centrada en `90` que, mediante ensayo y error, se determina que corresponde al color azúl y por lo tanto, representan los pixeles que conforman el cielo en la imagen.\n",
        "\n",
        "Ahora, la zona que más nos interesa es la que se encuentra en torno a `15`. Este rango se corresponde con el color naranjo.\n",
        "\n",
        "Teniendo estos valores en cuenta, ahora podemos definir un rango para realizar la segmentación. Para esto, utilizaremos la función `cv2.inRange` la cual binarizará la imagen a partir de los límites que le entreguemos."
      ]
    },
    {
      "cell_type": "code",
      "metadata": {
        "id": "NodBuIQiaIfD"
      },
      "source": [
        "#Definir límite inferior\n",
        "lower_hsv = \n",
        "\n",
        "#Definir límite superior\n",
        "upper_hsv = \n",
        "\n",
        "#Segmentar mediante cv2.inRange\n",
        "mask = \n",
        "\n",
        "#Plotear imagen con Matplotlib\n",
        "plot.figure()\n",
        "plot.imshow(mask, cmap='gray')\n",
        "plot.axis(\"off\")"
      ],
      "execution_count": null,
      "outputs": []
    },
    {
      "cell_type": "markdown",
      "metadata": {
        "id": "zRcqG_eicdnM"
      },
      "source": [
        "##Eliminación de ruido\n",
        "\n",
        "Si bien hemos logrado un buen resultado, se podría decir que este no es muy limpio. Este `mask` tiene bastante ruido. Podemos controlar esto si aplicamos previamente un filtro gaussiano sobre la imagen, mediante `cv2.GaussianBlur`."
      ]
    },
    {
      "cell_type": "code",
      "metadata": {
        "id": "xsCS-LVycfjk"
      },
      "source": [
        "#Se aplica un filtro gaussiano (las dimensiones del kernel deben ser positivas e impares)\n",
        "img_blur = \n",
        "\n",
        "#Plotear imagen con Matplotlib\n",
        "plot.figure()\n",
        "plot.imshow(img_rgb)\n",
        "plot.axis(\"off\")\n",
        "\n",
        "#Plotear imagen con Matplotlib\n",
        "plot.figure()\n",
        "plot.imshow(img_blur)\n",
        "plot.axis(\"off\")"
      ],
      "execution_count": null,
      "outputs": []
    },
    {
      "cell_type": "code",
      "metadata": {
        "id": "TzuQqnFyfgn2"
      },
      "source": [
        "#Cambiar espacio de colores (RGB A HSV)\n",
        "hsv_blur = \n",
        "\n",
        "#Segmentar mediante cv2.inRange\n",
        "clean_mask = \n",
        "\n",
        "#Plotear imagen con Matplotlib\n",
        "plot.figure()\n",
        "plot.imshow(clean_mask, cmap='gray')\n",
        "plot.axis(\"off\")"
      ],
      "execution_count": null,
      "outputs": []
    },
    {
      "cell_type": "markdown",
      "metadata": {
        "id": "e_vypdGcpAPr"
      },
      "source": [
        "#Bonus track\n",
        "\n",
        "Una vez tenemos nuestra imagen binarizada, se puede rescatar la información de los canales RGB del área segmentada. Esto se logra multiplicando cada uno de los canales por la máscara, obteniendo una imagen con los colores originales solo en el área de interés."
      ]
    },
    {
      "cell_type": "code",
      "metadata": {
        "id": "dEaFfzz5hiSL"
      },
      "source": [
        "#Normalizar valores para que queden 0 o 1\n",
        "clean_mask_normalized = clean_mask/255    \n",
        "\n",
        "#Multiplicar máscara con imagen original\n",
        "img_mask = np.zeros_like(img)\n",
        "\n",
        "for c in range(img_mask.shape[2]):\n",
        "  img_mask[:,:,c] = np.multiply(img_rgb[:,:,c], clean_mask_normalized)\n",
        "\n",
        "#Plotear imagen con Matplotlib\n",
        "plot.figure()\n",
        "plot.imshow(img_mask)\n",
        "plot.axis(\"off\")"
      ],
      "execution_count": null,
      "outputs": []
    }
  ]
}